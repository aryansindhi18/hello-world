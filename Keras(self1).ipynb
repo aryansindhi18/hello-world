{
  "nbformat": 4,
  "nbformat_minor": 0,
  "metadata": {
    "colab": {
      "name": "Keras(self1).ipynb",
      "provenance": [],
      "authorship_tag": "ABX9TyO7ddAWqLIG4dpPmaEVgN0b",
      "include_colab_link": true
    },
    "kernelspec": {
      "name": "python3",
      "display_name": "Python 3"
    }
  },
  "cells": [
    {
      "cell_type": "markdown",
      "metadata": {
        "id": "view-in-github",
        "colab_type": "text"
      },
      "source": [
        "<a href=\"https://colab.research.google.com/github/aryansindhi18/hello-world/blob/master/Keras(self1).ipynb\" target=\"_parent\"><img src=\"https://colab.research.google.com/assets/colab-badge.svg\" alt=\"Open In Colab\"/></a>"
      ]
    },
    {
      "cell_type": "code",
      "metadata": {
        "id": "oXTrCWC79WeQ",
        "colab_type": "code",
        "colab": {}
      },
      "source": [
        "from keras.models import Sequential\n",
        "from keras.layers import Dense"
      ],
      "execution_count": 0,
      "outputs": []
    },
    {
      "cell_type": "code",
      "metadata": {
        "id": "LwcEzFxw_yPW",
        "colab_type": "code",
        "colab": {}
      },
      "source": [
        "model = Sequential()"
      ],
      "execution_count": 0,
      "outputs": []
    },
    {
      "cell_type": "code",
      "metadata": {
        "id": "3QMgo7raAF5J",
        "colab_type": "code",
        "colab": {}
      },
      "source": [
        "layer1 = Dense(units=32,activation='relu',input_dim = 30)\n",
        "model.add(layer1)"
      ],
      "execution_count": 0,
      "outputs": []
    },
    {
      "cell_type": "code",
      "metadata": {
        "id": "SMbLqiYOCWe6",
        "colab_type": "code",
        "colab": {}
      },
      "source": [
        "model.add(Dense(units=32,activation='relu'))\n",
        "model.add(Dense(units=1,activation='sigmoid'))"
      ],
      "execution_count": 0,
      "outputs": []
    },
    {
      "cell_type": "code",
      "metadata": {
        "id": "U99X3XpiCvj2",
        "colab_type": "code",
        "colab": {}
      },
      "source": [
        "model.compile(optimizer='adam',loss='binary_crossentropy',metrics=['accuracy'])"
      ],
      "execution_count": 0,
      "outputs": []
    },
    {
      "cell_type": "code",
      "metadata": {
        "id": "N51cMMEgF2st",
        "colab_type": "code",
        "colab": {}
      },
      "source": [
        "from sklearn import datasets\n",
        "cancer = datasets.load_breast_cancer()\n",
        "from sklearn.model_selection import train_test_split\n",
        "x_train,x_test,y_train,y_test = train_test_split(cancer.data,cancer.target,test_size=0.2,random_state=0)\n",
        "from sklearn.preprocessing import StandardScaler\n",
        "sc = StandardScaler()\n",
        "x_train = sc.fit_transform(x_train)\n",
        "x_test = sc.transform(x_test)"
      ],
      "execution_count": 0,
      "outputs": []
    },
    {
      "cell_type": "code",
      "metadata": {
        "id": "CXJ2tjPSJZyn",
        "colab_type": "code",
        "colab": {
          "base_uri": "https://localhost:8080/",
          "height": 756
        },
        "outputId": "7c23442b-c0c3-419f-b414-20169b3b15a8"
      },
      "source": [
        "model.fit(x_train,y_train,epochs = 20,batch_size=50,validation_data=(x_test,y_test))"
      ],
      "execution_count": 40,
      "outputs": [
        {
          "output_type": "stream",
          "text": [
            "Train on 455 samples, validate on 114 samples\n",
            "Epoch 1/20\n",
            "455/455 [==============================] - 1s 1ms/step - loss: 0.7080 - acc: 0.4945 - val_loss: 0.5769 - val_acc: 0.7807\n",
            "Epoch 2/20\n",
            "455/455 [==============================] - 0s 46us/step - loss: 0.5292 - acc: 0.8286 - val_loss: 0.4466 - val_acc: 0.8860\n",
            "Epoch 3/20\n",
            "455/455 [==============================] - 0s 54us/step - loss: 0.4060 - acc: 0.9209 - val_loss: 0.3511 - val_acc: 0.9123\n",
            "Epoch 4/20\n",
            "455/455 [==============================] - 0s 65us/step - loss: 0.3175 - acc: 0.9407 - val_loss: 0.2789 - val_acc: 0.9298\n",
            "Epoch 5/20\n",
            "455/455 [==============================] - 0s 60us/step - loss: 0.2502 - acc: 0.9495 - val_loss: 0.2286 - val_acc: 0.9298\n",
            "Epoch 6/20\n",
            "455/455 [==============================] - 0s 55us/step - loss: 0.2006 - acc: 0.9560 - val_loss: 0.1925 - val_acc: 0.9386\n",
            "Epoch 7/20\n",
            "455/455 [==============================] - 0s 44us/step - loss: 0.1655 - acc: 0.9604 - val_loss: 0.1653 - val_acc: 0.9386\n",
            "Epoch 8/20\n",
            "455/455 [==============================] - 0s 45us/step - loss: 0.1399 - acc: 0.9626 - val_loss: 0.1450 - val_acc: 0.9386\n",
            "Epoch 9/20\n",
            "455/455 [==============================] - 0s 53us/step - loss: 0.1221 - acc: 0.9714 - val_loss: 0.1301 - val_acc: 0.9474\n",
            "Epoch 10/20\n",
            "455/455 [==============================] - 0s 42us/step - loss: 0.1094 - acc: 0.9758 - val_loss: 0.1182 - val_acc: 0.9649\n",
            "Epoch 11/20\n",
            "455/455 [==============================] - 0s 59us/step - loss: 0.0989 - acc: 0.9802 - val_loss: 0.1093 - val_acc: 0.9649\n",
            "Epoch 12/20\n",
            "455/455 [==============================] - 0s 47us/step - loss: 0.0910 - acc: 0.9802 - val_loss: 0.1014 - val_acc: 0.9737\n",
            "Epoch 13/20\n",
            "455/455 [==============================] - 0s 46us/step - loss: 0.0846 - acc: 0.9802 - val_loss: 0.0960 - val_acc: 0.9737\n",
            "Epoch 14/20\n",
            "455/455 [==============================] - 0s 51us/step - loss: 0.0797 - acc: 0.9802 - val_loss: 0.0915 - val_acc: 0.9737\n",
            "Epoch 15/20\n",
            "455/455 [==============================] - 0s 46us/step - loss: 0.0753 - acc: 0.9802 - val_loss: 0.0878 - val_acc: 0.9737\n",
            "Epoch 16/20\n",
            "455/455 [==============================] - 0s 46us/step - loss: 0.0716 - acc: 0.9846 - val_loss: 0.0847 - val_acc: 0.9737\n",
            "Epoch 17/20\n",
            "455/455 [==============================] - 0s 39us/step - loss: 0.0684 - acc: 0.9824 - val_loss: 0.0830 - val_acc: 0.9737\n",
            "Epoch 18/20\n",
            "455/455 [==============================] - 0s 46us/step - loss: 0.0655 - acc: 0.9846 - val_loss: 0.0809 - val_acc: 0.9737\n",
            "Epoch 19/20\n",
            "455/455 [==============================] - 0s 48us/step - loss: 0.0630 - acc: 0.9868 - val_loss: 0.0786 - val_acc: 0.9737\n",
            "Epoch 20/20\n",
            "455/455 [==============================] - 0s 50us/step - loss: 0.0603 - acc: 0.9868 - val_loss: 0.0762 - val_acc: 0.9737\n"
          ],
          "name": "stdout"
        },
        {
          "output_type": "execute_result",
          "data": {
            "text/plain": [
              "<keras.callbacks.History at 0x7f2740c3f160>"
            ]
          },
          "metadata": {
            "tags": []
          },
          "execution_count": 40
        }
      ]
    },
    {
      "cell_type": "code",
      "metadata": {
        "id": "baW-TUnKLlzN",
        "colab_type": "code",
        "colab": {
          "base_uri": "https://localhost:8080/",
          "height": 1000
        },
        "outputId": "ab71261d-3786-40dd-b6db-93e02f8573cd"
      },
      "source": [
        "predictions = model.predict(x_test)\n",
        "predictions"
      ],
      "execution_count": 41,
      "outputs": [
        {
          "output_type": "execute_result",
          "data": {
            "text/plain": [
              "array([[1.15627050e-02],\n",
              "       [9.71690357e-01],\n",
              "       [9.96798158e-01],\n",
              "       [9.91714954e-01],\n",
              "       [9.99275744e-01],\n",
              "       [9.95492458e-01],\n",
              "       [9.99682784e-01],\n",
              "       [9.99311566e-01],\n",
              "       [9.99923348e-01],\n",
              "       [9.99861538e-01],\n",
              "       [6.93624377e-01],\n",
              "       [9.24807072e-01],\n",
              "       [9.99975562e-01],\n",
              "       [5.33063889e-01],\n",
              "       [3.34406167e-01],\n",
              "       [2.69823968e-02],\n",
              "       [9.98300791e-01],\n",
              "       [3.31699848e-05],\n",
              "       [3.53217125e-04],\n",
              "       [2.95042992e-06],\n",
              "       [4.70361114e-03],\n",
              "       [1.61057711e-02],\n",
              "       [9.73455191e-01],\n",
              "       [9.98599589e-01],\n",
              "       [1.87367201e-03],\n",
              "       [9.98373151e-01],\n",
              "       [9.99837041e-01],\n",
              "       [6.28080964e-03],\n",
              "       [9.98177290e-01],\n",
              "       [3.28421593e-05],\n",
              "       [9.99240994e-01],\n",
              "       [1.10244751e-03],\n",
              "       [9.00479674e-01],\n",
              "       [7.00929761e-03],\n",
              "       [9.99980450e-01],\n",
              "       [1.60120130e-02],\n",
              "       [9.86085951e-01],\n",
              "       [5.69707155e-03],\n",
              "       [9.84245658e-01],\n",
              "       [1.30091608e-02],\n",
              "       [9.13150609e-02],\n",
              "       [9.99363542e-01],\n",
              "       [1.17241412e-01],\n",
              "       [9.99814987e-01],\n",
              "       [9.17062640e-01],\n",
              "       [4.67896461e-06],\n",
              "       [9.99983788e-01],\n",
              "       [9.80764687e-01],\n",
              "       [9.98960376e-01],\n",
              "       [2.82377005e-04],\n",
              "       [1.46359205e-04],\n",
              "       [9.77754295e-02],\n",
              "       [8.79526138e-04],\n",
              "       [9.98808622e-01],\n",
              "       [9.95732546e-01],\n",
              "       [9.99285460e-01],\n",
              "       [9.99618173e-01],\n",
              "       [9.92273688e-01],\n",
              "       [9.95587349e-01],\n",
              "       [1.43051147e-06],\n",
              "       [4.17190492e-02],\n",
              "       [2.59339213e-02],\n",
              "       [9.99828219e-01],\n",
              "       [9.97428060e-01],\n",
              "       [1.09085441e-03],\n",
              "       [9.44696665e-01],\n",
              "       [0.00000000e+00],\n",
              "       [2.37226486e-05],\n",
              "       [4.68194485e-05],\n",
              "       [9.99335527e-01],\n",
              "       [5.75962901e-01],\n",
              "       [6.49899244e-04],\n",
              "       [9.95628476e-01],\n",
              "       [3.24369788e-01],\n",
              "       [1.14798546e-04],\n",
              "       [9.88390923e-01],\n",
              "       [9.99886394e-01],\n",
              "       [9.37853932e-01],\n",
              "       [9.99348998e-01],\n",
              "       [9.99558091e-01],\n",
              "       [2.42687166e-02],\n",
              "       [1.49011612e-07],\n",
              "       [4.56482172e-04],\n",
              "       [9.99586463e-01],\n",
              "       [6.98324442e-02],\n",
              "       [9.96077895e-01],\n",
              "       [9.99692678e-01],\n",
              "       [9.99976277e-01],\n",
              "       [2.29665637e-03],\n",
              "       [0.00000000e+00],\n",
              "       [9.99794483e-01],\n",
              "       [3.89093280e-01],\n",
              "       [2.53520608e-01],\n",
              "       [2.43484974e-05],\n",
              "       [9.98060226e-01],\n",
              "       [9.96721268e-01],\n",
              "       [1.09076500e-04],\n",
              "       [9.63635206e-01],\n",
              "       [9.94876623e-01],\n",
              "       [9.97150958e-01],\n",
              "       [9.99989629e-01],\n",
              "       [9.97430801e-01],\n",
              "       [9.91797626e-01],\n",
              "       [7.18518257e-01],\n",
              "       [5.08815050e-04],\n",
              "       [9.92447019e-01],\n",
              "       [9.89735126e-05],\n",
              "       [8.46428156e-01],\n",
              "       [7.37162173e-01],\n",
              "       [3.68274927e-01],\n",
              "       [9.50516164e-01],\n",
              "       [3.48448753e-04],\n",
              "       [1.28583563e-03],\n",
              "       [8.15021813e-01]], dtype=float32)"
            ]
          },
          "metadata": {
            "tags": []
          },
          "execution_count": 41
        }
      ]
    },
    {
      "cell_type": "code",
      "metadata": {
        "id": "jsF-8YXTLrJ4",
        "colab_type": "code",
        "colab": {
          "base_uri": "https://localhost:8080/",
          "height": 52
        },
        "outputId": "f53add91-3de3-4712-c6c5-74d6a022b7c7"
      },
      "source": [
        "score = model.evaluate(x_test,y_test)\n",
        "score"
      ],
      "execution_count": 43,
      "outputs": [
        {
          "output_type": "stream",
          "text": [
            "114/114 [==============================] - 0s 87us/step\n"
          ],
          "name": "stdout"
        },
        {
          "output_type": "execute_result",
          "data": {
            "text/plain": [
              "[0.07624993747786472, 0.9736842063435337]"
            ]
          },
          "metadata": {
            "tags": []
          },
          "execution_count": 43
        }
      ]
    }
  ]
}